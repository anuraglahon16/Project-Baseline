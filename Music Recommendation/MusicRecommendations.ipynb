{
  "nbformat": 4,
  "nbformat_minor": 0,
  "metadata": {
    "colab": {
      "name": "MusicRecommendations.ipynb",
      "provenance": [],
      "collapsed_sections": [],
      "toc_visible": true
    },
    "kernelspec": {
      "display_name": "Python 3",
      "name": "python3"
    }
  },
  "cells": [
    {
      "cell_type": "markdown",
      "metadata": {
        "id": "uixRc0XtrHuj"
      },
      "source": [
        "# **WELCOME TO THIS NOTEBOOK**"
      ]
    },
    {
      "cell_type": "code",
      "metadata": {
        "colab": {
          "base_uri": "https://localhost:8080/"
        },
        "id": "s5uR6x8Qtanz",
        "outputId": "9e310420-868e-417d-fc3b-e85b2084a70b"
      },
      "source": [
        "from google.colab import drive\n",
        "drive.mount('/content/drive')"
      ],
      "execution_count": 29,
      "outputs": [
        {
          "output_type": "stream",
          "text": [
            "Drive already mounted at /content/drive; to attempt to forcibly remount, call drive.mount(\"/content/drive\", force_remount=True).\n"
          ],
          "name": "stdout"
        }
      ]
    },
    {
      "cell_type": "markdown",
      "metadata": {
        "id": "hMZ64UxxrMvL"
      },
      "source": [
        "Let's install pyspark"
      ]
    },
    {
      "cell_type": "code",
      "metadata": {
        "id": "Dal3Np2Imn8u",
        "colab": {
          "base_uri": "https://localhost:8080/"
        },
        "outputId": "32b5b5eb-8177-4b13-dbcc-89c8f980bd6d"
      },
      "source": [
        "!pip install pyspark"
      ],
      "execution_count": 30,
      "outputs": [
        {
          "output_type": "stream",
          "text": [
            "Requirement already satisfied: pyspark in /usr/local/lib/python3.6/dist-packages (3.0.1)\n",
            "Requirement already satisfied: py4j==0.10.9 in /usr/local/lib/python3.6/dist-packages (from pyspark) (0.10.9)\n"
          ],
          "name": "stdout"
        }
      ]
    },
    {
      "cell_type": "markdown",
      "metadata": {
        "id": "eK9D-CNgru_s"
      },
      "source": [
        "Importing the modules"
      ]
    },
    {
      "cell_type": "code",
      "metadata": {
        "id": "Z_cmzia9nA1W"
      },
      "source": [
        "from pyspark.sql import SparkSession\n",
        "from pyspark.sql.functions import count, desc , col, max\n",
        "from pyspark.ml.feature import  StringIndexer\n",
        "from pyspark.ml import Pipeline\n",
        "from pyspark.ml.recommendation import ALS\n",
        "from pyspark.ml.tuning import TrainValidationSplit, ParamGridBuilder"
      ],
      "execution_count": 31,
      "outputs": []
    },
    {
      "cell_type": "markdown",
      "metadata": {
        "id": "pjM5P6b0rVpH"
      },
      "source": [
        "Creating the spark session\n"
      ]
    },
    {
      "cell_type": "code",
      "metadata": {
        "id": "gvSzI0zMn4Hk"
      },
      "source": [
        "spark = SparkSession.builder.appName(\"lastfm\").getOrCreate()"
      ],
      "execution_count": 32,
      "outputs": []
    },
    {
      "cell_type": "markdown",
      "metadata": {
        "id": "KnyYdMVmnkp5"
      },
      "source": [
        "# Loading the dataset"
      ]
    },
    {
      "cell_type": "code",
      "metadata": {
        "id": "PywJeVgDngVd",
        "colab": {
          "base_uri": "https://localhost:8080/"
        },
        "outputId": "8a3f3158-2120-4bc0-ddbb-ca129812e35e"
      },
      "source": [
        "file_path = '/content/drive/MyDrive/datafiles/dataset/listenings.csv'\r\n",
        "df_listening = spark.read.format('csv').option('header',True).option('inferSchema',True).load(file_path)\r\n",
        "df_listening.show()"
      ],
      "execution_count": 33,
      "outputs": [
        {
          "output_type": "stream",
          "text": [
            "+-----------+-------------+--------------------+---------------+--------------------+\n",
            "|    user_id|         date|               track|         artist|               album|\n",
            "+-----------+-------------+--------------------+---------------+--------------------+\n",
            "|000Silenced|1299680100000|           Price Tag|       Jessie J|         Who You Are|\n",
            "|000Silenced|1299679920000|Price Tag (Acoust...|       Jessie J|           Price Tag|\n",
            "|000Silenced|1299679440000|Be Mine! (Ballad ...|          Robyn|            Be Mine!|\n",
            "|000Silenced|1299679200000|            Acapella|          Kelis|            Acapella|\n",
            "|000Silenced|1299675660000|   I'm Not Invisible|      The Tease|   I'm Not Invisible|\n",
            "|000Silenced|1297511400000|Bounce (Feat NORE...|       MSTRKRFT|         Fist of God|\n",
            "|000Silenced|1294498440000|Don't Stop The Mu...|        Rihanna|Addicted 2 Bassli...|\n",
            "|000Silenced|1292438340000|               ObZen|      Meshuggah|               ObZen|\n",
            "|000Silenced|1292437740000|   Yama's Messengers|         Gojira|The Way of All Flesh|\n",
            "|000Silenced|1292436360000|On the Brink of E...|   Napalm Death|Time Waits For No...|\n",
            "|000Silenced|1292436360000|On the Brink of E...|   Napalm Death|Time Waits For No...|\n",
            "|000Silenced|1292435940000|        In Deference|   Napalm Death|      Smear Campaign|\n",
            "|000Silenced|1292434920000|      Post(?)organic|    Decapitated|Organic Hallucinosis|\n",
            "|000Silenced|1292434560000|        Mind Feeders|   Dom & Roland| No Strings Attached|\n",
            "|000Silenced|1292434320000|Necrosadistic War...|Cannibal Corpse|                Kill|\n",
            "|000Silenced|1292365560000|     Dance All Night|   Dom & Roland|          Chronology|\n",
            "|000Silenced|1292365260000|          Late Night|   Dom & Roland|          Chronology|\n",
            "|000Silenced|1292365020000|          Freak Seen|   Dom & Roland|          Chronology|\n",
            "|000Silenced|1292364720000|Paradrenasite (Hi...|   Dom & Roland|          Chronology|\n",
            "|000Silenced|1292364300000|               Rhino|   Dom & Roland|          Chronology|\n",
            "+-----------+-------------+--------------------+---------------+--------------------+\n",
            "only showing top 20 rows\n",
            "\n"
          ],
          "name": "stdout"
        }
      ]
    },
    {
      "cell_type": "markdown",
      "metadata": {
        "id": "YUHBP0yjoJvc"
      },
      "source": [
        "\n",
        "# Cleaning tables "
      ]
    },
    {
      "cell_type": "code",
      "metadata": {
        "id": "N8luDo3HndTb",
        "colab": {
          "base_uri": "https://localhost:8080/"
        },
        "outputId": "1bdb8a3c-b83a-4e94-9497-3857a22d41e4"
      },
      "source": [
        "df_listening = df_listening.drop('date')\r\n",
        "df_listening.show()"
      ],
      "execution_count": 34,
      "outputs": [
        {
          "output_type": "stream",
          "text": [
            "+-----------+--------------------+---------------+--------------------+\n",
            "|    user_id|               track|         artist|               album|\n",
            "+-----------+--------------------+---------------+--------------------+\n",
            "|000Silenced|           Price Tag|       Jessie J|         Who You Are|\n",
            "|000Silenced|Price Tag (Acoust...|       Jessie J|           Price Tag|\n",
            "|000Silenced|Be Mine! (Ballad ...|          Robyn|            Be Mine!|\n",
            "|000Silenced|            Acapella|          Kelis|            Acapella|\n",
            "|000Silenced|   I'm Not Invisible|      The Tease|   I'm Not Invisible|\n",
            "|000Silenced|Bounce (Feat NORE...|       MSTRKRFT|         Fist of God|\n",
            "|000Silenced|Don't Stop The Mu...|        Rihanna|Addicted 2 Bassli...|\n",
            "|000Silenced|               ObZen|      Meshuggah|               ObZen|\n",
            "|000Silenced|   Yama's Messengers|         Gojira|The Way of All Flesh|\n",
            "|000Silenced|On the Brink of E...|   Napalm Death|Time Waits For No...|\n",
            "|000Silenced|On the Brink of E...|   Napalm Death|Time Waits For No...|\n",
            "|000Silenced|        In Deference|   Napalm Death|      Smear Campaign|\n",
            "|000Silenced|      Post(?)organic|    Decapitated|Organic Hallucinosis|\n",
            "|000Silenced|        Mind Feeders|   Dom & Roland| No Strings Attached|\n",
            "|000Silenced|Necrosadistic War...|Cannibal Corpse|                Kill|\n",
            "|000Silenced|     Dance All Night|   Dom & Roland|          Chronology|\n",
            "|000Silenced|          Late Night|   Dom & Roland|          Chronology|\n",
            "|000Silenced|          Freak Seen|   Dom & Roland|          Chronology|\n",
            "|000Silenced|Paradrenasite (Hi...|   Dom & Roland|          Chronology|\n",
            "|000Silenced|               Rhino|   Dom & Roland|          Chronology|\n",
            "+-----------+--------------------+---------------+--------------------+\n",
            "only showing top 20 rows\n",
            "\n"
          ],
          "name": "stdout"
        }
      ]
    },
    {
      "cell_type": "code",
      "metadata": {
        "id": "5rDadwmpowII",
        "colab": {
          "base_uri": "https://localhost:8080/"
        },
        "outputId": "a148b070-c7cc-4798-9791-fd877e4482a0"
      },
      "source": [
        "df_listening =df_listening.na.drop()\r\n",
        "df_listening.show()"
      ],
      "execution_count": 35,
      "outputs": [
        {
          "output_type": "stream",
          "text": [
            "+-----------+--------------------+---------------+--------------------+\n",
            "|    user_id|               track|         artist|               album|\n",
            "+-----------+--------------------+---------------+--------------------+\n",
            "|000Silenced|           Price Tag|       Jessie J|         Who You Are|\n",
            "|000Silenced|Price Tag (Acoust...|       Jessie J|           Price Tag|\n",
            "|000Silenced|Be Mine! (Ballad ...|          Robyn|            Be Mine!|\n",
            "|000Silenced|            Acapella|          Kelis|            Acapella|\n",
            "|000Silenced|   I'm Not Invisible|      The Tease|   I'm Not Invisible|\n",
            "|000Silenced|Bounce (Feat NORE...|       MSTRKRFT|         Fist of God|\n",
            "|000Silenced|Don't Stop The Mu...|        Rihanna|Addicted 2 Bassli...|\n",
            "|000Silenced|               ObZen|      Meshuggah|               ObZen|\n",
            "|000Silenced|   Yama's Messengers|         Gojira|The Way of All Flesh|\n",
            "|000Silenced|On the Brink of E...|   Napalm Death|Time Waits For No...|\n",
            "|000Silenced|On the Brink of E...|   Napalm Death|Time Waits For No...|\n",
            "|000Silenced|        In Deference|   Napalm Death|      Smear Campaign|\n",
            "|000Silenced|      Post(?)organic|    Decapitated|Organic Hallucinosis|\n",
            "|000Silenced|        Mind Feeders|   Dom & Roland| No Strings Attached|\n",
            "|000Silenced|Necrosadistic War...|Cannibal Corpse|                Kill|\n",
            "|000Silenced|     Dance All Night|   Dom & Roland|          Chronology|\n",
            "|000Silenced|          Late Night|   Dom & Roland|          Chronology|\n",
            "|000Silenced|          Freak Seen|   Dom & Roland|          Chronology|\n",
            "|000Silenced|Paradrenasite (Hi...|   Dom & Roland|          Chronology|\n",
            "|000Silenced|               Rhino|   Dom & Roland|          Chronology|\n",
            "+-----------+--------------------+---------------+--------------------+\n",
            "only showing top 20 rows\n",
            "\n"
          ],
          "name": "stdout"
        }
      ]
    },
    {
      "cell_type": "code",
      "metadata": {
        "id": "UZr0ZxOVIYr9"
      },
      "source": [
        ""
      ],
      "execution_count": 35,
      "outputs": []
    },
    {
      "cell_type": "markdown",
      "metadata": {
        "id": "cyf1XITGpMWV"
      },
      "source": [
        "\n",
        "# Let's Perform some aggregation\n",
        "to see how many times each user has listened to specific track\n"
      ]
    },
    {
      "cell_type": "code",
      "metadata": {
        "id": "PeH7vYKEoyWa",
        "colab": {
          "base_uri": "https://localhost:8080/"
        },
        "outputId": "64a22289-45d7-42bd-91a6-a3736c2c0e56"
      },
      "source": [
        "row_number=df_listening.count()\r\n",
        "col_number=len(df_listening.columns)\r\n",
        "print(row_number,col_number)"
      ],
      "execution_count": 36,
      "outputs": [
        {
          "output_type": "stream",
          "text": [
            "13758905 4\n"
          ],
          "name": "stdout"
        }
      ]
    },
    {
      "cell_type": "code",
      "metadata": {
        "id": "RhVz-SvapIyr",
        "colab": {
          "base_uri": "https://localhost:8080/"
        },
        "outputId": "646a59d5-8a92-4053-e7f9-42d1540e2f5c"
      },
      "source": [
        "df_listening_agg = df_listening.select('user_id','track').groupby('user_id','track').agg(count('*').alias('count')).orderBy('user_id')\r\n",
        "df_listening_agg.show()"
      ],
      "execution_count": 37,
      "outputs": [
        {
          "output_type": "stream",
          "text": [
            "+-------+--------------------+-----+\n",
            "|user_id|               track|count|\n",
            "+-------+--------------------+-----+\n",
            "| --Seph|Chelsea Hotel - L...|    1|\n",
            "| --Seph|               Leloo|    1|\n",
            "| --Seph|          Paris 2004|    7|\n",
            "| --Seph|     The Way We Were|    1|\n",
            "| --Seph|        Window Blues|    1|\n",
            "| --Seph|   Summa for Strings|    1|\n",
            "| --Seph|         The Embrace|    1|\n",
            "| --Seph|       Life On Mars?|    1|\n",
            "| --Seph|Hungarian Rhapsod...|    1|\n",
            "| --Seph| Air on the G String|    1|\n",
            "| --Seph|Vestido Estampado...|    1|\n",
            "| --Seph|Belina (Original ...|    1|\n",
            "| --Seph|Hungarian Dance No 5|    1|\n",
            "| --Seph|       Phantom Pt II|    1|\n",
            "| --Seph|              Monday|    1|\n",
            "| --Seph| White Winter Hymnal|    3|\n",
            "| --Seph|Airplanes [feat H...|    1|\n",
            "| --Seph|  California Waiting|    1|\n",
            "| --Seph|      Hour for magic|    2|\n",
            "| --Seph|Virus (Luke Fair ...|    1|\n",
            "+-------+--------------------+-----+\n",
            "only showing top 20 rows\n",
            "\n"
          ],
          "name": "stdout"
        }
      ]
    },
    {
      "cell_type": "code",
      "metadata": {
        "id": "KsTXVsO7I7Jw",
        "colab": {
          "base_uri": "https://localhost:8080/"
        },
        "outputId": "2d1d1e1f-fe48-4ab0-c142-daffecf9d80b"
      },
      "source": [
        "row_numbers =df_listening_agg.count()\r\n",
        "column_numbers =len(df_listening_agg.columns)\r\n",
        "print(row_numbers,column_numbers)"
      ],
      "execution_count": 38,
      "outputs": [
        {
          "output_type": "stream",
          "text": [
            "9930128 3\n"
          ],
          "name": "stdout"
        }
      ]
    },
    {
      "cell_type": "code",
      "metadata": {
        "id": "iTkRkpoX1yaH"
      },
      "source": [
        "df_listening_agg = df_listening_agg.limit(20000)"
      ],
      "execution_count": 39,
      "outputs": []
    },
    {
      "cell_type": "markdown",
      "metadata": {
        "id": "vuebvg7UqzsO"
      },
      "source": [
        "# Let's convert the user id and track columns into unique integers\n",
        "\n",
        "\n"
      ]
    },
    {
      "cell_type": "code",
      "metadata": {
        "id": "F9RSpj3DN6aX",
        "colab": {
          "base_uri": "https://localhost:8080/"
        },
        "outputId": "1d6c55a3-f271-49d8-86e4-aa8a10a7f0ba"
      },
      "source": [
        "indexer = [StringIndexer(inputCol=col,outputCol = col+'_index').fit(df_listening_agg)for col in list(set(df_listening_agg.columns)-set(['count']))]\r\n",
        "pipline =Pipeline(stages=indexer)\r\n",
        "data=pipline.fit(df_listening_agg).transform(df_listening_agg)\r\n",
        "data.show()"
      ],
      "execution_count": 40,
      "outputs": [
        {
          "output_type": "stream",
          "text": [
            "+-------+--------------------+-----+-------------+-----------+\n",
            "|user_id|               track|count|user_id_index|track_index|\n",
            "+-------+--------------------+-----+-------------+-----------+\n",
            "| --Seph| White Winter Hymnal|    3|         69.0|       59.0|\n",
            "| --Seph|Virus (Luke Fair ...|    1|         69.0|    15896.0|\n",
            "| --Seph|Airplanes [feat H...|    1|         69.0|      519.0|\n",
            "| --Seph|Belina (Original ...|    1|         69.0|     3278.0|\n",
            "| --Seph|              Monday|    1|         69.0|      334.0|\n",
            "| --Seph|Hungarian Dance No 5|    1|         69.0|     7558.0|\n",
            "| --Seph|       Life On Mars?|    1|         69.0|     1161.0|\n",
            "| --Seph|  California Waiting|    1|         69.0|      197.0|\n",
            "| --Seph|       Phantom Pt II|    1|         69.0|     1377.0|\n",
            "| --Seph|   Summa for Strings|    1|         69.0|    13739.0|\n",
            "| --Seph|      Hour for magic|    2|         69.0|     7495.0|\n",
            "| --Seph|Hungarian Rhapsod...|    1|         69.0|     7559.0|\n",
            "| --Seph|     The Way We Were|    1|         69.0|    14960.0|\n",
            "| --Seph| Air on the G String|    1|         69.0|     2455.0|\n",
            "| --Seph|Vestido Estampado...|    1|         69.0|    15850.0|\n",
            "| --Seph|        Window Blues|    1|         69.0|     1840.0|\n",
            "| --Seph|               Leloo|    1|         69.0|     9057.0|\n",
            "| --Seph|         The Embrace|    1|         69.0|    14387.0|\n",
            "| --Seph|          Paris 2004|    7|         69.0|    11313.0|\n",
            "| --Seph|Chelsea Hotel - L...|    1|         69.0|     4183.0|\n",
            "+-------+--------------------+-----+-------------+-----------+\n",
            "only showing top 20 rows\n",
            "\n"
          ],
          "name": "stdout"
        }
      ]
    },
    {
      "cell_type": "code",
      "metadata": {
        "id": "efL-hiR-q-AO",
        "colab": {
          "base_uri": "https://localhost:8080/"
        },
        "outputId": "6e551788-6e10-4964-bca6-4a9a89ed6f92"
      },
      "source": [
        "data =data.select('user_id_index','track_index','count').orderBy('user_id_index')\r\n",
        "data.show()"
      ],
      "execution_count": 41,
      "outputs": [
        {
          "output_type": "stream",
          "text": [
            "+-------------+-----------+-----+\n",
            "|user_id_index|track_index|count|\n",
            "+-------------+-----------+-----+\n",
            "|          0.0|    10943.0|    1|\n",
            "|          0.0|    11628.0|    2|\n",
            "|          0.0|     1349.0|    1|\n",
            "|          0.0|      381.0|    1|\n",
            "|          0.0|     8692.0|    1|\n",
            "|          0.0|     6899.0|    1|\n",
            "|          0.0|    14044.0|    1|\n",
            "|          0.0|    15513.0|    1|\n",
            "|          0.0|    11978.0|    2|\n",
            "|          0.0|    15176.0|    1|\n",
            "|          0.0|     8305.0|    1|\n",
            "|          0.0|    13722.0|    1|\n",
            "|          0.0|    10620.0|    1|\n",
            "|          0.0|     4424.0|    1|\n",
            "|          0.0|    16732.0|    1|\n",
            "|          0.0|    10630.0|    1|\n",
            "|          0.0|    12169.0|    1|\n",
            "|          0.0|     4117.0|    1|\n",
            "|          0.0|    10336.0|    1|\n",
            "|          0.0|    16829.0|    1|\n",
            "+-------------+-----------+-----+\n",
            "only showing top 20 rows\n",
            "\n"
          ],
          "name": "stdout"
        }
      ]
    },
    {
      "cell_type": "code",
      "metadata": {
        "id": "OfKtj2ojrKae"
      },
      "source": [
        ""
      ],
      "execution_count": 41,
      "outputs": []
    },
    {
      "cell_type": "markdown",
      "metadata": {
        "id": "IEwviAxXsHwN"
      },
      "source": [
        "# Train and Test data"
      ]
    },
    {
      "cell_type": "code",
      "metadata": {
        "id": "DRgu2p-PsYUw"
      },
      "source": [
        "(training,testing)=data.randomSplit([0.5,0.5])"
      ],
      "execution_count": 42,
      "outputs": []
    },
    {
      "cell_type": "markdown",
      "metadata": {
        "id": "M46wV6Gusdi5"
      },
      "source": [
        "# Let's Create our Model"
      ]
    },
    {
      "cell_type": "code",
      "metadata": {
        "id": "bwPk25M3sfRu"
      },
      "source": [
        "USERID='user_id_index'\n",
        "\n",
        "TRACK ='track_index'\n",
        "COUNT='count'\n",
        "als=ALS(maxIter=5,regParam=0.01,userCol=USERID,itemCol=TRACK,ratingCol=COUNT)\n",
        "model=als.fit(training)\n",
        "\n",
        "predictions=model.transform(testing)"
      ],
      "execution_count": 43,
      "outputs": []
    },
    {
      "cell_type": "markdown",
      "metadata": {
        "id": "lqBkLowzsoj8"
      },
      "source": [
        "\n",
        "# Generate top 10 Track recommendations for each user"
      ]
    },
    {
      "cell_type": "code",
      "metadata": {
        "id": "00mtv7XUsZGg"
      },
      "source": [
        "recs = model.recommendForAllUsers(10)"
      ],
      "execution_count": 44,
      "outputs": []
    },
    {
      "cell_type": "code",
      "metadata": {
        "id": "_EQnSUh3ncar",
        "colab": {
          "base_uri": "https://localhost:8080/"
        },
        "outputId": "6b6be879-a112-4b79-d5e4-c2ee29da0bf6"
      },
      "source": [
        "recs.show()"
      ],
      "execution_count": 45,
      "outputs": [
        {
          "output_type": "stream",
          "text": [
            "+-------------+--------------------+\n",
            "|user_id_index|     recommendations|\n",
            "+-------------+--------------------+\n",
            "|          148|[[16909, 17.74880...|\n",
            "|           31|[[11941, 37.65725...|\n",
            "|           85|[[11941, 27.35186...|\n",
            "|          137|[[11941, 34.99787...|\n",
            "|           65|[[11941, 35.65268...|\n",
            "|           53|[[11941, 14.79691...|\n",
            "|          133|[[8496, 15.997536...|\n",
            "|           78|[[568, 6.87129], ...|\n",
            "|          108|[[14301, 8.297548...|\n",
            "|           34|[[11941, 8.73956]...|\n",
            "|          101|[[16628, 8.97987]...|\n",
            "|          115|[[11941, 19.74026...|\n",
            "|          126|[[568, 13.980038]...|\n",
            "|           81|[[568, 8.82521], ...|\n",
            "|           28|[[11941, 39.91378...|\n",
            "|           76|[[309, 9.459379],...|\n",
            "|           26|[[235, 11.07777],...|\n",
            "|           27|[[16909, 11.47072...|\n",
            "|           44|[[16909, 14.72031...|\n",
            "|          103|[[16909, 17.60501...|\n",
            "+-------------+--------------------+\n",
            "only showing top 20 rows\n",
            "\n"
          ],
          "name": "stdout"
        }
      ]
    },
    {
      "cell_type": "code",
      "metadata": {
        "id": "stUaAoKpTgqT",
        "colab": {
          "base_uri": "https://localhost:8080/"
        },
        "outputId": "29314188-fdbd-455d-b9c3-6da856ad622d"
      },
      "source": [
        "recs.take(1)"
      ],
      "execution_count": 46,
      "outputs": [
        {
          "output_type": "execute_result",
          "data": {
            "text/plain": [
              "[Row(user_id_index=148, recommendations=[Row(track_index=16909, rating=17.748804092407227), Row(track_index=9500, rating=13.607417106628418), Row(track_index=4619, rating=8.573165893554688), Row(track_index=9557, rating=8.573165893554688), Row(track_index=10645, rating=8.573165893554688), Row(track_index=8496, rating=8.573165893554688), Row(track_index=11878, rating=8.573165893554688), Row(track_index=3150, rating=7.501521110534668), Row(track_index=8821, rating=7.230241298675537), Row(track_index=9101, rating=7.178316116333008)])]"
            ]
          },
          "metadata": {
            "tags": []
          },
          "execution_count": 46
        }
      ]
    }
  ]
}